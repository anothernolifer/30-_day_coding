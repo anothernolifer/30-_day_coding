{
 "cells": [
  {
   "cell_type": "markdown",
   "id": "d274d35d-c1ac-4ded-aaa8-2b8c9987a686",
   "metadata": {},
   "source": [
    "## Checking whether the pytorch is installed or not "
   ]
  },
  {
   "cell_type": "code",
   "execution_count": 5,
   "id": "1c25a9ec-f763-4ca3-8eb5-de02c3b33230",
   "metadata": {},
   "outputs": [
    {
     "name": "stdout",
     "output_type": "stream",
     "text": [
      "2.5.1\n",
      "0.20.1\n",
      "2.5.1\n"
     ]
    }
   ],
   "source": [
    "import torch, torchvision, torchaudio\n",
    "print(torch.__version__)\n",
    "print(torchvision.__version__)\n",
    "print(torchaudio.__version__)\n"
   ]
  },
  {
   "cell_type": "markdown",
   "id": "9d963d62-6e9b-4183-bfc5-946ea8dd7cc5",
   "metadata": {},
   "source": [
    "## Converting list to tensor"
   ]
  },
  {
   "cell_type": "code",
   "execution_count": 6,
   "id": "19554b2a-d4cd-4e95-88de-ea6d5520760d",
   "metadata": {},
   "outputs": [],
   "source": [
    "heights = [189, 170, 189, 163, 183, 171, 185,168, 173, 183, 173, 173, 175, 178,\n",
    "           183, 193, 178, 173, 174, 183, 183,180, 168, 180, 170, 178, 182, 180,\n",
    "           183, 178, 182, 188, 175, 179, 183,193, 182, 183, 177, 185, 188, 188,\n",
    "           182, 185, 191, 183]"
   ]
  },
  {
   "cell_type": "code",
   "execution_count": 8,
   "id": "55aadf94-bd72-42ff-8d5f-f1604e694baf",
   "metadata": {},
   "outputs": [
    {
     "name": "stdout",
     "output_type": "stream",
     "text": [
      "tensor([189., 170., 189., 163., 183., 171., 185., 168., 173., 183., 173., 173.,\n",
      "        175., 178., 183., 193., 178., 173., 174., 183., 183., 180., 168., 180.,\n",
      "        170., 178., 182., 180., 183., 178., 182., 188., 175., 179., 183., 193.,\n",
      "        182., 183., 177., 185., 188., 188., 182., 185., 191., 183.],\n",
      "       dtype=torch.float64)\n"
     ]
    }
   ],
   "source": [
    "heights_tensor = torch.tensor(heights , dtype = torch.float64)\n",
    "print(heights_tensor)"
   ]
  },
  {
   "cell_type": "markdown",
   "id": "597c4edd-a55c-40d9-98dd-36170d15274b",
   "metadata": {},
   "source": [
    "## Two ways of specifying tensor types"
   ]
  },
  {
   "cell_type": "code",
   "execution_count": 10,
   "id": "cd86f07d-b95d-4c74-9ecd-a10c5104729a",
   "metadata": {},
   "outputs": [
    {
     "name": "stdout",
     "output_type": "stream",
     "text": [
      "tensor([1, 2, 3], dtype=torch.int32)\n"
     ]
    }
   ],
   "source": [
    "# Way 1 \n",
    "\n",
    "t1 = torch.IntTensor([1,2,3])\n",
    "print(t1)"
   ]
  },
  {
   "cell_type": "code",
   "execution_count": 11,
   "id": "06142eea-f298-4544-9751-d5ed2e77b25e",
   "metadata": {},
   "outputs": [
    {
     "name": "stdout",
     "output_type": "stream",
     "text": [
      "tensor([1, 2, 3], dtype=torch.int32)\n"
     ]
    }
   ],
   "source": [
    "# way 2\n",
    "\n",
    "t2 = torch.tensor([1,2,3], dtype = torch.int)\n",
    "print(t2)"
   ]
  },
  {
   "cell_type": "code",
   "execution_count": 17,
   "id": "8c1127f7-aa1b-493b-a7e4-ab32d8c30d55",
   "metadata": {},
   "outputs": [
    {
     "name": "stdout",
     "output_type": "stream",
     "text": [
      "tensor([5., 8., 9.], dtype=torch.float64)\n",
      "tensor([5., 8., 9.], dtype=torch.float64)\n"
     ]
    }
   ],
   "source": [
    "# exercise 2.1\n",
    "\n",
    "python_list = ([5,8,9])\n",
    "\n",
    "t1 = torch.DoubleTensor(python_list)\n",
    "print(t1)\n",
    "\n",
    "t2 = torch.tensor(python_list , dtype = torch.float64)\n",
    "print(t2)"
   ]
  },
  {
   "cell_type": "markdown",
   "id": "d09e92c4-6bb4-4602-891e-4fd4e0a9511e",
   "metadata": {},
   "source": [
    "## creating tensor with only 0 or 1"
   ]
  },
  {
   "cell_type": "code",
   "execution_count": 20,
   "id": "499fbec6-7458-49e3-b094-eaff76aca57e",
   "metadata": {},
   "outputs": [
    {
     "name": "stdout",
     "output_type": "stream",
     "text": [
      "tensor([[0., 0., 0.],\n",
      "        [0., 0., 0.]])\n"
     ]
    }
   ],
   "source": [
    "# 2-D\n",
    "\n",
    "t1 = torch.zeros(2,3)\n",
    "print(t1)"
   ]
  },
  {
   "cell_type": "code",
   "execution_count": 21,
   "id": "83b21c47-b040-4267-b899-3668646f9e32",
   "metadata": {},
   "outputs": [
    {
     "name": "stdout",
     "output_type": "stream",
     "text": [
      "tensor([[[1., 1., 1., 1., 1.],\n",
      "         [1., 1., 1., 1., 1.],\n",
      "         [1., 1., 1., 1., 1.],\n",
      "         [1., 1., 1., 1., 1.]]])\n"
     ]
    }
   ],
   "source": [
    "# 3-D\n",
    "\n",
    "t2 = torch.ones(1,4,5)\n",
    "print(t2)"
   ]
  },
  {
   "cell_type": "code",
   "execution_count": 22,
   "id": "6fcbc2ca-fd08-40b8-a482-f800cb18f1f5",
   "metadata": {},
   "outputs": [
    {
     "name": "stdout",
     "output_type": "stream",
     "text": [
      "tensor([[[0., 0., 0., 0.],\n",
      "         [0., 0., 0., 0.],\n",
      "         [0., 0., 0., 0.]],\n",
      "\n",
      "        [[0., 0., 0., 0.],\n",
      "         [0., 0., 0., 0.],\n",
      "         [0., 0., 0., 0.]]])\n"
     ]
    }
   ],
   "source": [
    "# exercise 2.2\n",
    "\n",
    "t3 = torch.zeros(2,3,4)\n",
    "print(t3)"
   ]
  },
  {
   "cell_type": "markdown",
   "id": "e91d67ba-217b-4062-a1ea-10624e622912",
   "metadata": {},
   "source": [
    "## Numpy array into tensor"
   ]
  },
  {
   "cell_type": "code",
   "execution_count": 24,
   "id": "33928b6a-93bc-4cf3-9cd8-592ba77afd2d",
   "metadata": {},
   "outputs": [
    {
     "name": "stdout",
     "output_type": "stream",
     "text": [
      "tensor([0, 1, 2, 3, 4, 5, 6, 7, 8, 9], dtype=torch.int32)\n"
     ]
    }
   ],
   "source": [
    "import numpy as np\n",
    "\n",
    "nparr = np.array(range(10))\n",
    "pt_tensor = torch.tensor(nparr , dtype = torch.int)\n",
    "print(pt_tensor)"
   ]
  },
  {
   "cell_type": "markdown",
   "id": "06944176-c029-44a2-9d5e-611c9904d04f",
   "metadata": {},
   "source": [
    "## index pytorch tensor"
   ]
  },
  {
   "cell_type": "code",
   "execution_count": 27,
   "id": "206fd684-58b6-46e5-86e0-e3ad562c5163",
   "metadata": {},
   "outputs": [
    {
     "name": "stdout",
     "output_type": "stream",
     "text": [
      "tensor(189., dtype=torch.float64)\n"
     ]
    }
   ],
   "source": [
    "# counting from front\n",
    "\n",
    "height = heights_tensor[2]\n",
    "print(height)"
   ]
  },
  {
   "cell_type": "code",
   "execution_count": 29,
   "id": "aa13493c-eeb7-4007-9a16-1933aaa830dd",
   "metadata": {},
   "outputs": [
    {
     "name": "stdout",
     "output_type": "stream",
     "text": [
      "tensor(191., dtype=torch.float64)\n"
     ]
    }
   ],
   "source": [
    "# counting from back\n",
    "\n",
    "height = heights_tensor[-2]\n",
    "print(height)"
   ]
  },
  {
   "cell_type": "markdown",
   "id": "e5a67bf6-a37f-47ad-ae87-1428fedc07df",
   "metadata": {},
   "source": [
    "## slice pytorch tensor"
   ]
  },
  {
   "cell_type": "code",
   "execution_count": 34,
   "id": "c0a1ec2e-542b-4666-a169-cb2b9e946586",
   "metadata": {},
   "outputs": [
    {
     "name": "stdout",
     "output_type": "stream",
     "text": [
      "tensor([189., 170.], dtype=torch.float64)\n"
     ]
    }
   ],
   "source": [
    "# slicing from front\n",
    "\n",
    "two_height = heights_tensor[:2]\n",
    "print(two_height)"
   ]
  },
  {
   "cell_type": "code",
   "execution_count": 35,
   "id": "996bd9d9-9c8e-4c95-9c93-fca226f49afd",
   "metadata": {},
   "outputs": [
    {
     "name": "stdout",
     "output_type": "stream",
     "text": [
      "tensor([188., 182., 185., 191., 183.], dtype=torch.float64)\n"
     ]
    }
   ],
   "source": [
    "# slicing from back\n",
    "\n",
    "last_five_height = heights_tensor[-5:]\n",
    "print(last_five_height)"
   ]
  },
  {
   "cell_type": "code",
   "execution_count": 36,
   "id": "f6372f70-b9f6-4a57-b69f-efe37908795d",
   "metadata": {},
   "outputs": [
    {
     "name": "stdout",
     "output_type": "stream",
     "text": [
      "tensor([189., 170., 189., 163., 183.], dtype=torch.float64)\n"
     ]
    }
   ],
   "source": [
    "# exercise 2.3\n",
    "\n",
    "five_height = heights_tensor[:5]\n",
    "print(five_height)"
   ]
  },
  {
   "cell_type": "markdown",
   "id": "1235faa8-5756-4d4b-b69c-f13b1c306604",
   "metadata": {},
   "source": [
    "## pytorch tensor shapes"
   ]
  },
  {
   "cell_type": "code",
   "execution_count": 37,
   "id": "20dbf625-404d-4c6d-9764-e45482650bdc",
   "metadata": {},
   "outputs": [
    {
     "name": "stdout",
     "output_type": "stream",
     "text": [
      "torch.Size([46])\n"
     ]
    }
   ],
   "source": [
    "print(heights_tensor.shape)"
   ]
  },
  {
   "cell_type": "code",
   "execution_count": 38,
   "id": "daf82c61-7ada-452c-acc3-5dff0aab688a",
   "metadata": {},
   "outputs": [
    {
     "name": "stdout",
     "output_type": "stream",
     "text": [
      "tensor([6.2008, 5.5774, 6.2008, 5.3478, 6.0039, 5.6102, 6.0696, 5.5118, 5.6759,\n",
      "        6.0039, 5.6759, 5.6759, 5.7415, 5.8399, 6.0039, 6.3320, 5.8399, 5.6759,\n",
      "        5.7087, 6.0039, 6.0039, 5.9055, 5.5118, 5.9055, 5.5774, 5.8399, 5.9711,\n",
      "        5.9055, 6.0039, 5.8399, 5.9711, 6.1680, 5.7415, 5.8727, 6.0039, 6.3320,\n",
      "        5.9711, 6.0039, 5.8071, 6.0696, 6.1680, 6.1680, 5.9711, 6.0696, 6.2664,\n",
      "        6.0039], dtype=torch.float64)\n"
     ]
    }
   ],
   "source": [
    "heights_in_feet = heights_tensor / 30.48\n",
    "print(heights_in_feet)"
   ]
  },
  {
   "cell_type": "markdown",
   "id": "fd0bff92-ca3e-4d66-aea2-209eb8c5cbd6",
   "metadata": {},
   "source": [
    "## concatenation of tensors"
   ]
  },
  {
   "cell_type": "code",
   "execution_count": 39,
   "id": "d418e0d9-32a5-4679-8470-ad31b03cba3d",
   "metadata": {},
   "outputs": [
    {
     "name": "stdout",
     "output_type": "stream",
     "text": [
      "tensor([189.0000, 170.0000, 189.0000, 163.0000, 183.0000, 171.0000, 185.0000,\n",
      "        168.0000, 173.0000, 183.0000, 173.0000, 173.0000, 175.0000, 178.0000,\n",
      "        183.0000, 193.0000, 178.0000, 173.0000, 174.0000, 183.0000, 183.0000,\n",
      "        180.0000, 168.0000, 180.0000, 170.0000, 178.0000, 182.0000, 180.0000,\n",
      "        183.0000, 178.0000, 182.0000, 188.0000, 175.0000, 179.0000, 183.0000,\n",
      "        193.0000, 182.0000, 183.0000, 177.0000, 185.0000, 188.0000, 188.0000,\n",
      "        182.0000, 185.0000, 191.0000, 183.0000,   6.2008,   5.5774,   6.2008,\n",
      "          5.3478,   6.0039,   5.6102,   6.0696,   5.5118,   5.6759,   6.0039,\n",
      "          5.6759,   5.6759,   5.7415,   5.8399,   6.0039,   6.3320,   5.8399,\n",
      "          5.6759,   5.7087,   6.0039,   6.0039,   5.9055,   5.5118,   5.9055,\n",
      "          5.5774,   5.8399,   5.9711,   5.9055,   6.0039,   5.8399,   5.9711,\n",
      "          6.1680,   5.7415,   5.8727,   6.0039,   6.3320,   5.9711,   6.0039,\n",
      "          5.8071,   6.0696,   6.1680,   6.1680,   5.9711,   6.0696,   6.2664,\n",
      "          6.0039], dtype=torch.float64)\n"
     ]
    }
   ],
   "source": [
    "height_2 = torch.cat([heights_tensor , heights_in_feet] , dim = 0)\n",
    "print(height_2)"
   ]
  },
  {
   "cell_type": "code",
   "execution_count": 42,
   "id": "bf1b53ed-b7e2-4659-9c6f-ea1372c789f5",
   "metadata": {},
   "outputs": [
    {
     "name": "stdout",
     "output_type": "stream",
     "text": [
      "tensor([[189.0000, 170.0000, 189.0000, 163.0000, 183.0000, 171.0000, 185.0000,\n",
      "         168.0000, 173.0000, 183.0000, 173.0000, 173.0000, 175.0000, 178.0000,\n",
      "         183.0000, 193.0000, 178.0000, 173.0000, 174.0000, 183.0000, 183.0000,\n",
      "         180.0000, 168.0000, 180.0000, 170.0000, 178.0000, 182.0000, 180.0000,\n",
      "         183.0000, 178.0000, 182.0000, 188.0000, 175.0000, 179.0000, 183.0000,\n",
      "         193.0000, 182.0000, 183.0000, 177.0000, 185.0000, 188.0000, 188.0000,\n",
      "         182.0000, 185.0000, 191.0000, 183.0000],\n",
      "        [  6.2008,   5.5774,   6.2008,   5.3478,   6.0039,   5.6102,   6.0696,\n",
      "           5.5118,   5.6759,   6.0039,   5.6759,   5.6759,   5.7415,   5.8399,\n",
      "           6.0039,   6.3320,   5.8399,   5.6759,   5.7087,   6.0039,   6.0039,\n",
      "           5.9055,   5.5118,   5.9055,   5.5774,   5.8399,   5.9711,   5.9055,\n",
      "           6.0039,   5.8399,   5.9711,   6.1680,   5.7415,   5.8727,   6.0039,\n",
      "           6.3320,   5.9711,   6.0039,   5.8071,   6.0696,   6.1680,   6.1680,\n",
      "           5.9711,   6.0696,   6.2664,   6.0039]], dtype=torch.float64)\n"
     ]
    }
   ],
   "source": [
    "heights_reshaped = height_2.reshape(2, 46)\n",
    "print(heights_reshaped)"
   ]
  },
  {
   "cell_type": "code",
   "execution_count": 43,
   "id": "f1eb887f-ad82-408f-99be-0a17da4504ce",
   "metadata": {},
   "outputs": [
    {
     "name": "stdout",
     "output_type": "stream",
     "text": [
      "tensor(6.2664, dtype=torch.float64)\n"
     ]
    }
   ],
   "source": [
    "print(heights_reshaped[1,-2])"
   ]
  },
  {
   "cell_type": "code",
   "execution_count": 44,
   "id": "93c3fa6c-e0c9-4817-ad11-955cc0e0814e",
   "metadata": {},
   "outputs": [
    {
     "name": "stdout",
     "output_type": "stream",
     "text": [
      "tensor(185., dtype=torch.float64)\n"
     ]
    }
   ],
   "source": [
    "# exercise 2.4\n",
    "\n",
    "print(heights_reshaped[0,-3])"
   ]
  },
  {
   "cell_type": "markdown",
   "id": "39d35231-1442-4b64-8a01-bbea12c5525c",
   "metadata": {},
   "source": [
    "## mathematical operations on pytorch tensors"
   ]
  },
  {
   "cell_type": "code",
   "execution_count": 46,
   "id": "1be419cb-9089-411b-98e3-b8817a9635f7",
   "metadata": {},
   "outputs": [
    {
     "name": "stdout",
     "output_type": "stream",
     "text": [
      "tensor(6.3320, dtype=torch.float64)\n"
     ]
    }
   ],
   "source": [
    "print(torch.median(heights_reshaped))"
   ]
  },
  {
   "cell_type": "code",
   "execution_count": 47,
   "id": "ab6f21d9-06f2-4c8f-9f40-5fe93d7001af",
   "metadata": {},
   "outputs": [
    {
     "name": "stdout",
     "output_type": "stream",
     "text": [
      "tensor([193.0000,   6.3320], dtype=torch.float64)\n",
      "tensor([15, 15])\n"
     ]
    }
   ],
   "source": [
    "values, indices = torch.max(heights_reshaped, dim=1)\n",
    "print(values)\n",
    "print(indices)"
   ]
  },
  {
   "cell_type": "code",
   "execution_count": 48,
   "id": "08edaf5b-f831-4b01-8131-ec2ed6c1433b",
   "metadata": {},
   "outputs": [
    {
     "name": "stdout",
     "output_type": "stream",
     "text": [
      "tensor([163.0000,   5.3478], dtype=torch.float64)\n",
      "tensor([3, 3])\n"
     ]
    }
   ],
   "source": [
    "# exercise 2.5\n",
    "\n",
    "values, indices = torch.min(heights_reshaped, dim=1)\n",
    "print(values)\n",
    "print(indices)"
   ]
  },
  {
   "cell_type": "code",
   "execution_count": null,
   "id": "adbc8035-61fe-4b67-a6cf-c806582d6f5a",
   "metadata": {},
   "outputs": [],
   "source": []
  }
 ],
 "metadata": {
  "kernelspec": {
   "display_name": "Python 3 (ipykernel)",
   "language": "python",
   "name": "python3"
  },
  "language_info": {
   "codemirror_mode": {
    "name": "ipython",
    "version": 3
   },
   "file_extension": ".py",
   "mimetype": "text/x-python",
   "name": "python",
   "nbconvert_exporter": "python",
   "pygments_lexer": "ipython3",
   "version": "3.12.11"
  }
 },
 "nbformat": 4,
 "nbformat_minor": 5
}
